{
  "nbformat": 4,
  "nbformat_minor": 0,
  "metadata": {
    "colab": {
      "name": "Fembot_sentiment_analysis.ipynb",
      "provenance": [],
      "collapsed_sections": []
    },
    "kernelspec": {
      "display_name": "Python 3",
      "language": "python",
      "name": "python3"
    },
    "language_info": {
      "codemirror_mode": {
        "name": "ipython",
        "version": 3
      },
      "file_extension": ".py",
      "mimetype": "text/x-python",
      "name": "python",
      "nbconvert_exporter": "python",
      "pygments_lexer": "ipython3",
      "version": "3.6.4"
    }
  },
  "cells": [
    {
      "cell_type": "code",
      "metadata": {
        "id": "yZjEAVkF0s3T"
      },
      "source": [
        "\n",
        "import numpy as np # linear algebra\n",
        "import pandas as pd # data processing, CSV file "
      ],
      "execution_count": null,
      "outputs": []
    },
    {
      "cell_type": "code",
      "metadata": {
        "id": "oSyNi4Bz0s3e"
      },
      "source": [
        "train_df=pd.read_csv('csv_files/train.csv')\n",
        "test_df=pd.read_csv('csv_files/test.csv')"
      ],
      "execution_count": null,
      "outputs": []
    },
    {
      "cell_type": "code",
      "metadata": {
        "id": "b1ZE8nk10s3k"
      },
      "source": [
        "train_df.describe()"
      ],
      "execution_count": null,
      "outputs": []
    },
    {
      "cell_type": "code",
      "metadata": {
        "id": "WKntL8ur0s3q"
      },
      "source": [
        "train_df.head(10)"
      ],
      "execution_count": null,
      "outputs": []
    },
    {
      "cell_type": "code",
      "metadata": {
        "id": "QYDZfbbO0s3w"
      },
      "source": [
        "import spacy"
      ],
      "execution_count": null,
      "outputs": []
    },
    {
      "cell_type": "code",
      "metadata": {
        "id": "7MSKeX2x0s31"
      },
      "source": [
        "pd.crosstab(index=train_df['label'],columns='count')"
      ],
      "execution_count": null,
      "outputs": []
    },
    {
      "cell_type": "code",
      "metadata": {
        "id": "5l8iFEoj0s37"
      },
      "source": [
        "import seaborn as sns\n",
        "sns.countplot(x='label',data=train_df)"
      ],
      "execution_count": null,
      "outputs": []
    },
    {
      "cell_type": "markdown",
      "metadata": {
        "id": "kLcJUzQs0s3_"
      },
      "source": [
        "Empty model with Spacy , use TextCategorizer within model"
      ]
    },
    {
      "cell_type": "code",
      "metadata": {
        "id": "DgDB0P5G0s4B",
        "outputId": "7dda3d3b-b466-4fa5-cac7-d26346ef7f46",
        "colab": {
          "base_uri": "https://localhost:8080/"
        }
      },
      "source": [
        "nlp=spacy.blank('en')\n",
        "classifier = nlp.create_pipe('textcat',config={'exclusive_classes':True,'architecture' : 'bow'})\n",
        "nlp.add_pipe(classifier)\n",
        "classifier.add_label('RACIST/SEXIST')\n",
        "classifier.add_label('NON_RACIST/SEXIST')"
      ],
      "execution_count": null,
      "outputs": [
        {
          "output_type": "execute_result",
          "data": {
            "text/plain": [
              "1"
            ]
          },
          "metadata": {
            "tags": []
          },
          "execution_count": 8
        }
      ]
    },
    {
      "cell_type": "markdown",
      "metadata": {
        "id": "ksT0g4Og0s4G"
      },
      "source": [
        "Convert tweet text data to the input form for TextCategorizer. Set separate labels for the classes 'Racist/sexist' and 'Non-racist/sexist'"
      ]
    },
    {
      "cell_type": "code",
      "metadata": {
        "id": "k770dHYD0s4I"
      },
      "source": [
        "train_data=train_df['tweet'].values\n",
        "train_label=[{'cats':{'RACIST/SEXIST':label==1,\n",
        "                    'NON_RACIST/SEXIST':label==0}} for label in train_df['label']]\n",
        "train_list=list(zip(train_data,train_label))"
      ],
      "execution_count": null,
      "outputs": []
    },
    {
      "cell_type": "code",
      "metadata": {
        "id": "Pf8sF15o0s4M"
      },
      "source": [
        "from spacy.util import minibatch\n",
        "import random\n",
        "random.seed(1)\n",
        "spacy.util.fix_random_seed(1)\n",
        "optimizer=nlp.begin_training()\n",
        "losses={}\n"
      ],
      "execution_count": null,
      "outputs": []
    },
    {
      "cell_type": "markdown",
      "metadata": {
        "id": "CX2HBHfs0s4Q"
      },
      "source": [
        "Training the model "
      ]
    },
    {
      "cell_type": "code",
      "metadata": {
        "id": "mVIDA-Pf0s4Q"
      },
      "source": [
        "for epoch in range(10):\n",
        "    random.shuffle(train_list)\n",
        "    batches=minibatch(train_list,size=24)\n",
        "    for batch in batches:\n",
        "        text,labels=zip(*batch)\n",
        "        nlp.update(text,labels,sgd=optimizer,losses=losses)\n",
        "        #print(losses,batch,epoch)"
      ],
      "execution_count": null,
      "outputs": []
    },
    {
      "cell_type": "code",
      "metadata": {
        "id": "QqtrtyeH0s4V"
      },
      "source": [
        "test_df.head(10)\n",
        "test_df['tweet']"
      ],
      "execution_count": null,
      "outputs": []
    },
    {
      "cell_type": "code",
      "metadata": {
        "id": "zP8ppVK50s4a"
      },
      "source": [
        "test=[nlp.tokenizer(text) for text in test_df['tweet']]\n"
      ],
      "execution_count": null,
      "outputs": []
    },
    {
      "cell_type": "markdown",
      "metadata": {
        "id": "-WPelK960s4f"
      },
      "source": [
        "Predict results on test data"
      ]
    },
    {
      "cell_type": "code",
      "metadata": {
        "id": "I9as7Ja90s4g",
        "outputId": "b90eb479-52fc-45c2-cf62-924ec01f2a74",
        "colab": {
          "base_uri": "https://localhost:8080/"
        }
      },
      "source": [
        "classifier=nlp.get_pipe('textcat')\n",
        "scores,_=classifier.predict(test)\n",
        "print(scores)"
      ],
      "execution_count": null,
      "outputs": [
        {
          "output_type": "stream",
          "text": [
            "[[1.8355710e-02 9.8164427e-01]\n",
            " [6.8968111e-01 3.1031892e-01]\n",
            " [1.5408030e-05 9.9998462e-01]\n",
            " ...\n",
            " [3.1029875e-03 9.9689698e-01]\n",
            " [4.3769032e-06 9.9999559e-01]\n",
            " [2.0392453e-04 9.9979609e-01]]\n"
          ],
          "name": "stdout"
        }
      ]
    },
    {
      "cell_type": "code",
      "metadata": {
        "id": "Bw4eGe0G0s4l"
      },
      "source": [
        "predict_label=scores.argmax(axis=1)\n",
        "count=0\n",
        "for pred in predict_label:\n",
        "  print(test_df['tweet'][count],'racist/sexist'if pred==0 else \"non_racist/sexist\")\n",
        "  count+=1"
      ],
      "execution_count": null,
      "outputs": []
    },
    {
      "cell_type": "code",
      "metadata": {
        "id": "PAa0aAho4Cpn"
      },
      "source": [
        ""
      ],
      "execution_count": null,
      "outputs": []
    }
  ]
}